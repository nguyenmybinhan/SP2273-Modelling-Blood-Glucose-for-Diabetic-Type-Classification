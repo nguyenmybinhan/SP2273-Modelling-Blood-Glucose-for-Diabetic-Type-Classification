{
 "cells": [
  {
   "cell_type": "code",
   "execution_count": 1,
   "id": "1aaf6e63-21ec-4d1e-bab3-f2958aa08ee0",
   "metadata": {},
   "outputs": [],
   "source": [
    "import numpy as np\n",
    "import pandas as pd\n",
    "import random\n",
    "import os"
   ]
  },
  {
   "cell_type": "markdown",
   "id": "2cd66722-46fb-470c-8d84-723aa6b72856",
   "metadata": {},
   "source": [
    "# 1. Generate parameters"
   ]
  },
  {
   "cell_type": "markdown",
   "id": "948b84aa-033b-4424-b5eb-cd4bfdf3fdc1",
   "metadata": {},
   "source": [
    "The paper found that based on the curve-fitting parameters `Gb`, `tau`, `alpha`, `omega`, `C0`, calculate `w0` = $\\sqrt{\\omega^2 + \\alpha^2}$ and `TO` = $\\frac{2 \\pi}{\\omega_0}$:\n",
    "- If `T0` > 4hr: a person is prediabetic or diabetic\n",
    "- A person is normal otherwise"
   ]
  },
  {
   "cell_type": "markdown",
   "id": "497bb2de-31c5-4c4d-b999-27baa972be15",
   "metadata": {},
   "source": [
    "Moreover, based on the curve-fitting parameters from the paper for 2 patients A (normal) and B (diabetic), we will take reference from these values to set the range for each fit parameters. \n",
    "\n",
    "Here are the values for fit parameters of each person and their diabetic status from the paper and range of each parameter chosen:\n",
    "\n",
    "|Person|Diabetic status| `Gb`|`alpha`|`tau`|`omega`|`C0`|`T0`|`Gb` range|`alpha` range|`tau` range|`C0` range|`T0` range|\n",
    "|:--:|:--:|:--:|:--:|:--:|:--:|:--:|:--:|:--:|:--:|:--:|:--:|:--:|\n",
    "|A|normal|73.8161|1.1733|0.6447|2.4128|116.4327|2.3418|[70, 85]|[1, 1.3]|[0.6, 0.7]|[100, 130]|[2, 4]|\n",
    "|B|diabetic|94.4838|0.8685|0.6447|1.2823|208.3634|4.0569|[85, 120]|[0.1, 1]|[0.6, 0.7]|[130, 210]|[4, 10]|"
   ]
  },
  {
   "cell_type": "markdown",
   "id": "fce9b500-ff99-4b6a-88e6-2bec6b522726",
   "metadata": {},
   "source": [
    "In our function `generate_parameters`, it will take in `patient_type` as input. \n",
    "- Based on the patient type, it will generate random parameters `Gb`, `tau`, `alpha`, `C0`,`T0` in a given range.\n",
    "- Then, it calculates parameters `w0` and `w0`.\n",
    "- The function returns fit parameters `Gb`, `tau`, `alpha`, `omega`, `C0` used for the mathematical function $G(t)$.\n",
    "- Note: for ease of calculation, we round all parameters to 2 digits."
   ]
  },
  {
   "cell_type": "code",
   "execution_count": 2,
   "id": "0a80e312-a4e6-4ff2-a8bc-8c8afb7a5c67",
   "metadata": {},
   "outputs": [],
   "source": [
    "def generate_parameters(patient_type):\n",
    "    #set range of parameters based on patient type\n",
    "    if patient_type == 'diabetic':\n",
    "        min_Gb, max_Gb = 85, 120\n",
    "        min_T0, max_T0 = 4, 10\n",
    "        min_alpha, max_alpha = 0.1,1\n",
    "        min_C0, max_C0 = 130, 210\n",
    "    elif patient_type == 'normal':\n",
    "        min_Gb, max_Gb = 70, 85\n",
    "        min_T0, max_T0 = 2,4\n",
    "        min_alpha, max_alpha = 1,1.3\n",
    "        min_C0, max_C0 = 100,130\n",
    "    \n",
    "    #generate random parameters \n",
    "    Gb = round(random.uniform(min_Gb, max_Gb), 2)\n",
    "    T0 = round(random.uniform(min_T0, max_T0), 2)\n",
    "    w0 = round(2 * np.pi/T0,2)\n",
    "    alpha = round(random.uniform(min_alpha, max_alpha), 2)\n",
    "    omega = round((w0**2 - alpha**2),2)\n",
    "    C0 = round(random.uniform(min_C0, max_C0),2)\n",
    "    tau = round(random.uniform(0.6,0.7), 2)\n",
    "\n",
    "    return Gb, alpha, omega, C0, tau"
   ]
  },
  {
   "cell_type": "markdown",
   "id": "3efda6ff-91b2-4d59-ad96-9bc7f4f79384",
   "metadata": {},
   "source": [
    "# 2. Function to generate simulation"
   ]
  },
  {
   "cell_type": "markdown",
   "id": "94bf1ce9-2172-4126-934c-041bb357648e",
   "metadata": {},
   "source": [
    "Note that the blood-glucose level $G$ varies with time $t$ according to the mathematical function:\n",
    "$$\n",
    "G(t) = G_b + D_2 = G_b + e^{-\\alpha t} \\left[ -C_0 \\cos(\\omega t) + \\frac{A_G D + C_0 - \\alpha C_0 \\tau}{\\omega \\tau} \\sin(\\omega t) \\right] + C_0 e^{\\frac{-t}{\\tau}}.\n",
    "$$\n",
    "\n",
    "with known parameters $G_b, \\alpha, \\omega, C_0, \\tau$.\n",
    "\n",
    "- We will use the randomly generated and calculated parameters `Gb`, `tau`, `alpha`, `omega`, `C0` from the function `generate_parameters` to apply to the mathematical function. \n",
    "- We use the same range of sampled time `t` like that of the sample dataset in the paper.\n",
    "- Apply the mathematical function $G(t)$ with the parameters $G_b, \\alpha, \\omega, C_0, \\tau$ at each point of time $t$.\n",
    "- We add a small noise in the range [-1, 1] to the function $G(t)$.\n",
    "- Save the simulated glucose level $G$ and time $t$ as a Dataframe\n",
    "- Save the Dataframe as a csv file in `simulation` folder\n",
    "- Follow the naming convention of the file"
   ]
  },
  {
   "cell_type": "code",
   "execution_count": 3,
   "id": "980e026c-f863-4ed4-9c86-58f73826f247",
   "metadata": {},
   "outputs": [],
   "source": [
    "def generate_simulation(patient_type, number_of_datasets):\n",
    "    food = 100\n",
    "    for index in range(number_of_datasets):\n",
    "        #generate parameters\n",
    "        Gb, alpha, omega, C0, tau = generate_parameters(patient_type)\n",
    "\n",
    "        t = [0.00,0.50, 0.75, 1.00, 1.50, 2.00, 2.50, 3.00, 4.00, 6.00]\n",
    "        \n",
    "        G = []\n",
    "        j = 0\n",
    "        \n",
    "        #for each t, generate G(t) using mathematical function with a little noise \n",
    "        for t_i in t:\n",
    "            try:\n",
    "                noise = random.uniform(-1,1)\n",
    "                glucose = Gb + np.exp(-alpha*t_i)*(-C0*np.cos(omega*t_i)+ (food+C0-alpha*C0*tau)/(omega*tau)*np.sin(omega*t_i)) +C0*np.exp(-t_i/tau) + noise\n",
    "                math = Gb + np.exp(-alpha*t_i)*(-C0*np.cos(omega*t_i)+ (food+C0-alpha*C0*tau)/(omega*tau)*np.sin(omega*t_i)) +C0*np.exp(-t_i/tau) \n",
    "                G.append(glucose)\n",
    "\n",
    "            except ZeroDivisionError:\n",
    "                print(t_i)\n",
    "        t_array = np.arange(min(t), max(t), 0.01)\n",
    "        M = Gb + np.exp(-alpha*t_array)*(-C0*np.cos(omega*t_array)+ (food+C0-alpha*C0*tau)/(omega*tau)*np.sin(omega*t_array)) +C0*np.exp(-t_array/tau) \n",
    "        df = pd.DataFrame(zip(t,G), columns = ['t', 'G(t)'])\n",
    "        \n",
    "        # Create the folder for simulation data if it doesn't exist\n",
    "        folder_path = f'./simulation/{patient_type}'\n",
    "        if not os.path.exists(folder_path):\n",
    "            os.makedirs(folder_path)\n",
    "\n",
    "        # naming convention of each csv file: '{patient_type}_{index}.csv' (e.g normal_1.csv, diabetic_1.csv)\n",
    "        # Save DataFrame to CSV in the simulation folder\n",
    "        file_name = f'{patient_type}_{index+1}.csv'\n",
    "        file_path = os.path.join(folder_path, file_name)\n",
    "\n",
    "        df.to_csv(file_path, index=False) #uncomment this\n",
    "        #return t"
   ]
  },
  {
   "cell_type": "markdown",
   "id": "5af44c55-6390-48c3-bdfd-b584acbcb145",
   "metadata": {},
   "source": [
    "## 2.1 Generate simulation for diabetic patients"
   ]
  },
  {
   "cell_type": "code",
   "execution_count": 4,
   "id": "897d61d3-855f-4a42-bb1c-884a9ff40027",
   "metadata": {},
   "outputs": [],
   "source": [
    "generate_simulation('diabetic', 50)"
   ]
  },
  {
   "cell_type": "markdown",
   "id": "a2b5d08b-f4f8-4e63-a1e0-594515c590ad",
   "metadata": {},
   "source": [
    "## 2.2 Generate simulation for normal patients"
   ]
  },
  {
   "cell_type": "code",
   "execution_count": 5,
   "id": "85629b4a-e92c-4653-81b0-3a86484b82d3",
   "metadata": {},
   "outputs": [],
   "source": [
    "generate_simulation('normal', 50)"
   ]
  }
 ],
 "metadata": {
  "kernelspec": {
   "display_name": "Python 3 (ipykernel)",
   "language": "python",
   "name": "python3"
  },
  "language_info": {
   "codemirror_mode": {
    "name": "ipython",
    "version": 3
   },
   "file_extension": ".py",
   "mimetype": "text/x-python",
   "name": "python",
   "nbconvert_exporter": "python",
   "pygments_lexer": "ipython3",
   "version": "3.12.2"
  }
 },
 "nbformat": 4,
 "nbformat_minor": 5
}
